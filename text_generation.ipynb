{
 "cells": [
  {
   "cell_type": "markdown",
   "id": "eadfd111-19be-4886-87af-3f0958c46931",
   "metadata": {},
   "source": [
    "# Text Generation\n",
    "\n",
    "Source: https://docs.mistral.ai/capabilities/completion/\n",
    "\n",
    "With added examples."
   ]
  },
  {
   "cell_type": "code",
   "execution_count": 1,
   "id": "c7ff6fdf-f940-4b8a-81b6-48a1d406ba59",
   "metadata": {},
   "outputs": [],
   "source": [
    "from mistralai.client import MistralClient\n",
    "from mistralai.models.chat_completion import ChatMessage\n",
    "import os\n",
    "import json"
   ]
  },
  {
   "cell_type": "code",
   "execution_count": 2,
   "id": "a252a1ce-504f-4c71-a185-de603119a7f8",
   "metadata": {},
   "outputs": [],
   "source": [
    "api_key = os.environ[\"MISTRAL_API_KEY\"]\n",
    "model = \"mistral-large-latest\""
   ]
  },
  {
   "cell_type": "code",
   "execution_count": 3,
   "id": "fe5c54ef-3764-4a79-9434-4d3da0ba3887",
   "metadata": {},
   "outputs": [],
   "source": [
    "client = MistralClient(api_key=api_key)"
   ]
  },
  {
   "cell_type": "markdown",
   "id": "a6759902-6409-493c-a0b5-5c60302dcf69",
   "metadata": {},
   "source": [
    "## Message Roles\n",
    "- **System** message: optional message that sets behavior and context for an AI assistant (like Mistral) in a convo, such as modifying its personality or providing specific instructions.\n",
    "- **User** message: sent from the perspective of the human in a conversation with an AI assistant.\n",
    "- **Assistant** message: message sent by the AI assistant back to the user; usually a reply.\n",
    "- **Tool** message - only for functional calling; used at the final response formulation step when the model has to format the tool call's output for the user."
   ]
  },
  {
   "cell_type": "markdown",
   "id": "2ef1e6f4-e114-4673-aff4-8a269ae19d5c",
   "metadata": {},
   "source": [
    "## Role \"User\""
   ]
  },
  {
   "cell_type": "code",
   "execution_count": 4,
   "id": "f4a80823-daa2-458e-92c8-5c43addba175",
   "metadata": {},
   "outputs": [],
   "source": [
    "messages = [\n",
    "    ChatMessage(role=\"user\", content=\"What is the best French cheese?\")\n",
    "]\n"
   ]
  },
  {
   "cell_type": "code",
   "execution_count": 5,
   "id": "d74c813f-3386-46be-a021-0f18be80fcf1",
   "metadata": {},
   "outputs": [
    {
     "name": "stdout",
     "output_type": "stream",
     "text": [
      "France is known for its wide variety of delicious cheeses, and the \"best\" one can depend on personal preference. However, some of the most popular and highly regarded French cheeses include:\n",
      "\n",
      "1. Brie de Meaux: Often referred to as the \"king of cheeses,\" this soft cheese is known for its creamy texture and mild, slightly sweet flavor.\n",
      "\n",
      "2. Camembert: Similar to Brie, Camembert is a soft cheese with a bloomy rind. It has a rich, buttery flavor and a smooth, runny texture when ripe.\n",
      "\n",
      "3. Roquefort: This is a type of blue cheese made from sheep's milk. It has a strong, tangy flavor and a crumbly texture.\n",
      "\n",
      "4. Comté: A hard cheese made from unpasteurized cow's milk, Comté has a complex flavor that is nutty, sweet, and slightly fruity.\n",
      "\n",
      "5. Reblochon: This soft cheese has a unique history and a distinct flavor. It's creamy, slightly nutty, and has a subtle fruity taste.\n"
     ]
    }
   ],
   "source": [
    "chat_response = client.chat(\n",
    "    model=model,\n",
    "    messages=messages,\n",
    ")\n",
    "\n",
    "print(chat_response.choices[0].message.content)"
   ]
  },
  {
   "cell_type": "markdown",
   "id": "c8afa940-8e8a-4e27-a04b-04862f1e9309",
   "metadata": {},
   "source": [
    "## Role \"System\""
   ]
  },
  {
   "cell_type": "code",
   "execution_count": 6,
   "id": "6377b8bb-7dfe-4b9f-af00-ba1d68161216",
   "metadata": {},
   "outputs": [],
   "source": [
    "def chat_with_mistral(messages):\n",
    "    response = client.chat(\n",
    "        model=model,\n",
    "        messages=messages\n",
    "    )\n",
    "    return response.choices[0].message.content\n",
    "    "
   ]
  },
  {
   "cell_type": "code",
   "execution_count": 7,
   "id": "eb76f512-f82f-4e7f-bc18-c1c3e6ab7551",
   "metadata": {},
   "outputs": [],
   "source": [
    "# Define your messages\n",
    "messages = [\n",
    "    ChatMessage(role=\"system\", content=\"You are a helpful assistant that translates English to Italian.\"),\n",
    "    ChatMessage(role=\"user\", content=\"Translate the following sentence from English to Italian: I love programming.\")\n",
    "]"
   ]
  },
  {
   "cell_type": "code",
   "execution_count": 8,
   "id": "83b9ac8c-9f7c-4891-8721-89870ce8fb48",
   "metadata": {},
   "outputs": [
    {
     "name": "stdout",
     "output_type": "stream",
     "text": [
      "Assistant: Sure, I'd be happy to help with that! The English sentence \"I love programming\" translates to \"Amo la programmazione\" in Italian.\n"
     ]
    }
   ],
   "source": [
    "# First turn\n",
    "assistant_response = chat_with_mistral(messages)\n",
    "print(\"Assistant:\", assistant_response)\n"
   ]
  },
  {
   "cell_type": "markdown",
   "id": "6473a982-0a74-49e8-899d-eb71194cc2aa",
   "metadata": {},
   "source": [
    "## Role \"Assistant\""
   ]
  },
  {
   "cell_type": "code",
   "execution_count": 9,
   "id": "b881c289-716f-4520-8413-98abd4293ca7",
   "metadata": {},
   "outputs": [],
   "source": [
    "# Start the conversation\n",
    "conversation = [\n",
    "    ChatMessage(role=\"user\", content=\"Hello, can you help me translate some English phrases to Italian?\")\n",
    "]\n"
   ]
  },
  {
   "cell_type": "code",
   "execution_count": 10,
   "id": "4dd83b27-5786-45bb-a1f0-c10ffae9ad1a",
   "metadata": {},
   "outputs": [
    {
     "name": "stdout",
     "output_type": "stream",
     "text": [
      "Assistant: Of course, I'd be happy to help you translate some English phrases to Italian. Please provide me with the phrases you want translated.\n",
      "\n",
      "Here are some examples to get started:\n",
      "\n",
      "* Hello - Ciao\n",
      "* Goodbye - Arrivederci\n",
      "* Please - Per favore\n",
      "* Thank you - Grazie\n",
      "* Yes - Sì\n",
      "* No - No\n",
      "* Excuse me - Mi scusi\n",
      "* I'm sorry - Mi dispiace\n",
      "* I love you - Ti amo\n",
      "* How are you? - Come stai?\n",
      "* What is your name? - Come ti chiami?\n",
      "* My name is [name] - Mi chiamo [name]\n",
      "* Nice to meet you - Piacere di conoscerti\n",
      "* Where is the bathroom? - Dov'è il bagno?\n",
      "* How much does it cost? - Quanto costa?\n",
      "* Do you speak English? - Parla inglese?\n",
      "* I don't understand - Non capisco\n",
      "* Can you help me? - Può aiutarmi?\n",
      "* I don't know - Non lo so\n",
      "* Good morning - Buongiorno\n",
      "* Good evening - Buonasera\n",
      "* Good night - Buonanotte\n",
      "* I would like [food/drink] - Vorrei [food/drink]\n",
      "* The bill, please - Il conto, per favore\n",
      "* Cheers! - Cin cin!\n",
      "* Enjoy your meal! - Buon appetito!\n",
      "* Have a nice day! - Buona giornata!\n",
      "* See you later! - A dopo!\n",
      "* I'm lost - Sono perso\n",
      "* Can you recommend a good restaurant? - Mi può consigliare un buon ristorante?\n",
      "* I'm vegetarian - Sono vegetariano\n",
      "* I'm allergic to [food] - Sono allergico a [food]\n",
      "* Where is the train station? - Dov'è la stazione dei treni?\n",
      "* How do I get to [location]? - Come si arriva a [location]?\n"
     ]
    }
   ],
   "source": [
    "# First turn\n",
    "assistant_response = chat_with_mistral(conversation)\n",
    "print(\"Assistant:\", assistant_response)"
   ]
  },
  {
   "cell_type": "code",
   "execution_count": 11,
   "id": "c69d1d96-458b-47f9-81d0-a243e8733111",
   "metadata": {},
   "outputs": [],
   "source": [
    "# Add the assistant's response to the conversation\n",
    "conversation.append(ChatMessage(role=\"assistant\", content=assistant_response))\n",
    "# Add 2nd turn\n",
    "conversation.append(ChatMessage(role=\"user\", content=\"Great! Please translate 'I love programming' to Italian.\"))\n"
   ]
  },
  {
   "cell_type": "code",
   "execution_count": 12,
   "id": "008f6517-3d84-40c1-b371-aa07d11da015",
   "metadata": {},
   "outputs": [
    {
     "name": "stdout",
     "output_type": "stream",
     "text": [
      "Assistant: Sure! The phrase \"I love programming\" can be translated to Italian as \"Amo la programmazione\". Here's the breakdown:\n",
      "\n",
      "* \"Amo\" means \"I love\"\n",
      "* \"la\" is the definite article for feminine singular nouns, and in this case, it's used because \"programmazione\" is a feminine singular noun\n",
      "* \"programmazione\" means \"programming\"\n",
      "\n",
      "So, the literal translation of \"Amo la programmazione\" is \"I love the programming\", but in this context, it can be translated as \"I love programming\".\n"
     ]
    }
   ],
   "source": [
    "assistant_response = chat_with_mistral(conversation)\n",
    "print(\"Assistant:\", assistant_response)"
   ]
  },
  {
   "cell_type": "code",
   "execution_count": 13,
   "id": "4a35d0c6-5194-4dce-a1d9-248caeeeb7d6",
   "metadata": {},
   "outputs": [],
   "source": [
    "# Add the assistant's response to the conversation\n",
    "conversation.append(ChatMessage(role=\"assistant\", content=assistant_response))\n",
    "# Add 3rd turn\n",
    "conversation.append(ChatMessage(role=\"user\", content=\"Now, can you translate 'The weather is beautiful today'?\"))\n"
   ]
  },
  {
   "cell_type": "code",
   "execution_count": 14,
   "id": "391f3bed-9dad-4cbe-89e3-298fe4b4c081",
   "metadata": {},
   "outputs": [
    {
     "name": "stdout",
     "output_type": "stream",
     "text": [
      "Assistant: Certainly! The phrase \"The weather is beautiful today\" can be translated to Italian as \"Il tempo è bello oggi\". Here's the breakdown:\n",
      "\n",
      "* \"Il\" is the definite article for masculine singular nouns, and in this case, it's used because \"tempo\" is a masculine singular noun\n",
      "* \"tempo\" means \"weather\"\n",
      "* \"è\" means \"is\"\n",
      "* \"bello\" means \"beautiful\"\n",
      "* \"oggi\" means \"today\"\n",
      "\n",
      "So, the literal translation of \"Il tempo è bello oggi\" is \"The weather is beautiful today\".\n"
     ]
    }
   ],
   "source": [
    "assistant_response = chat_with_mistral(conversation)\n",
    "print(\"Assistant:\", assistant_response)"
   ]
  },
  {
   "cell_type": "code",
   "execution_count": 15,
   "id": "35a7b5eb-240a-42ee-8c45-b96ba36be200",
   "metadata": {},
   "outputs": [
    {
     "name": "stdout",
     "output_type": "stream",
     "text": [
      "\n",
      "Full conversation:\n",
      "User: Hello, can you help me translate some English phrases to Italian?\n",
      "Assistant: Of course, I'd be happy to help you translate some English phrases to Italian. Please provide me with the phrases you want translated.\n",
      "\n",
      "Here are some examples to get started:\n",
      "\n",
      "* Hello - Ciao\n",
      "* Goodbye - Arrivederci\n",
      "* Please - Per favore\n",
      "* Thank you - Grazie\n",
      "* Yes - Sì\n",
      "* No - No\n",
      "* Excuse me - Mi scusi\n",
      "* I'm sorry - Mi dispiace\n",
      "* I love you - Ti amo\n",
      "* How are you? - Come stai?\n",
      "* What is your name? - Come ti chiami?\n",
      "* My name is [name] - Mi chiamo [name]\n",
      "* Nice to meet you - Piacere di conoscerti\n",
      "* Where is the bathroom? - Dov'è il bagno?\n",
      "* How much does it cost? - Quanto costa?\n",
      "* Do you speak English? - Parla inglese?\n",
      "* I don't understand - Non capisco\n",
      "* Can you help me? - Può aiutarmi?\n",
      "* I don't know - Non lo so\n",
      "* Good morning - Buongiorno\n",
      "* Good evening - Buonasera\n",
      "* Good night - Buonanotte\n",
      "* I would like [food/drink] - Vorrei [food/drink]\n",
      "* The bill, please - Il conto, per favore\n",
      "* Cheers! - Cin cin!\n",
      "* Enjoy your meal! - Buon appetito!\n",
      "* Have a nice day! - Buona giornata!\n",
      "* See you later! - A dopo!\n",
      "* I'm lost - Sono perso\n",
      "* Can you recommend a good restaurant? - Mi può consigliare un buon ristorante?\n",
      "* I'm vegetarian - Sono vegetariano\n",
      "* I'm allergic to [food] - Sono allergico a [food]\n",
      "* Where is the train station? - Dov'è la stazione dei treni?\n",
      "* How do I get to [location]? - Come si arriva a [location]?\n",
      "User: Great! Please translate 'I love programming' to Italian.\n",
      "Assistant: Sure! The phrase \"I love programming\" can be translated to Italian as \"Amo la programmazione\". Here's the breakdown:\n",
      "\n",
      "* \"Amo\" means \"I love\"\n",
      "* \"la\" is the definite article for feminine singular nouns, and in this case, it's used because \"programmazione\" is a feminine singular noun\n",
      "* \"programmazione\" means \"programming\"\n",
      "\n",
      "So, the literal translation of \"Amo la programmazione\" is \"I love the programming\", but in this context, it can be translated as \"I love programming\".\n",
      "User: Now, can you translate 'The weather is beautiful today'?\n"
     ]
    }
   ],
   "source": [
    "# Print the full conversation\n",
    "print(\"\\nFull conversation:\")\n",
    "for message in conversation:\n",
    "    print(f\"{message.role.capitalize()}: {message.content}\")\n",
    "    "
   ]
  },
  {
   "cell_type": "markdown",
   "id": "4f2ba105-4e91-4af2-9f2a-cde32beb382a",
   "metadata": {},
   "source": [
    "## Role \"Tool\" \n",
    "User -> Assistant -> Tool"
   ]
  },
  {
   "cell_type": "code",
   "execution_count": 16,
   "id": "dc1bd70d-b5df-4334-a869-84763b9232d9",
   "metadata": {},
   "outputs": [],
   "source": [
    "# Define a simple weather lookup function\n",
    "def get_weather(city):\n",
    "    # In a real scenario, this would call a weather API\n",
    "    weather_data = {\n",
    "        \"New York\": \"Sunny, 25°C\",\n",
    "        \"London\": \"Rainy, 15°C\",\n",
    "        \"Tokyo\": \"Cloudy, 20°C\"\n",
    "    }\n",
    "    return weather_data.get(city, \"Weather data not available\")"
   ]
  },
  {
   "cell_type": "code",
   "execution_count": 17,
   "id": "deedb193-1387-4535-80d1-775fd7d9076f",
   "metadata": {},
   "outputs": [],
   "source": [
    "# Define the function specifications\n",
    "tools = [\n",
    "    {\n",
    "        \"type\": \"function\",\n",
    "        \"function\": {\n",
    "            \"name\": \"get_weather\",\n",
    "            \"description\": \"Get the current weather for a city\",\n",
    "            \"parameters\": {\n",
    "                \"type\": \"object\",\n",
    "                \"properties\": {\n",
    "                    \"city\": {\n",
    "                        \"type\": \"string\",\n",
    "                        \"description\": \"The city to get weather for\"\n",
    "                    }\n",
    "                },\n",
    "                \"required\": [\"city\"]\n",
    "            }\n",
    "        }\n",
    "    }\n",
    "]"
   ]
  },
  {
   "cell_type": "code",
   "execution_count": 18,
   "id": "5d1183bd-eb5b-423d-8763-a943a9dae8c3",
   "metadata": {},
   "outputs": [],
   "source": [
    "# Start the conversation\n",
    "messages = [\n",
    "    ChatMessage(role=\"user\", content=\"What's the weather like in New York?\")\n",
    "]"
   ]
  },
  {
   "cell_type": "code",
   "execution_count": 19,
   "id": "320abf16-8a19-4439-b70c-8cc17a2afae6",
   "metadata": {},
   "outputs": [
    {
     "data": {
      "text/plain": [
       "ChatCompletionResponse(id='7ac808503e464f3a84826a597634cbc0', object='chat.completion', created=1720408403, model='mistral-large-latest', choices=[ChatCompletionResponseChoice(index=0, message=ChatMessage(role='assistant', content='', name=None, tool_calls=[ToolCall(id='cK0sB3kFw', type=<ToolType.function: 'function'>, function=FunctionCall(name='get_weather', arguments='{\"city\": \"New York\"}'))], tool_call_id=None), finish_reason=<FinishReason.tool_calls: 'tool_calls'>)], usage=UsageInfo(prompt_tokens=87, total_tokens=110, completion_tokens=23))"
      ]
     },
     "execution_count": 19,
     "metadata": {},
     "output_type": "execute_result"
    }
   ],
   "source": [
    "# First API call to get function call\n",
    "response = client.chat(\n",
    "    model=model,\n",
    "    messages=messages,\n",
    "    tools=tools,\n",
    "    tool_choice=\"auto\"\n",
    ")\n",
    "\n",
    "response"
   ]
  },
  {
   "cell_type": "code",
   "execution_count": 20,
   "id": "4687cf80-649b-4e36-b8c1-5f988cc37f54",
   "metadata": {},
   "outputs": [],
   "source": [
    "# add response\n",
    "messages.append(response.choices[0].message)"
   ]
  },
  {
   "cell_type": "code",
   "execution_count": 21,
   "id": "ec44284f-d1a0-41d0-81cd-7a56c3a30406",
   "metadata": {},
   "outputs": [
    {
     "name": "stdout",
     "output_type": "stream",
     "text": [
      "Final response: The weather in New York is sunny and 25°C.\n"
     ]
    }
   ],
   "source": [
    "# Check if a function was called\n",
    "if response.choices[0].message.tool_calls:\n",
    "    tool_call = response.choices[0].message.tool_calls[0]\n",
    "    function_name = tool_call.function.name\n",
    "    function_args = json.loads(tool_call.function.arguments)\n",
    "    \n",
    "    # Execute the function\n",
    "    if function_name == \"get_weather\":\n",
    "        result = get_weather(function_args[\"city\"])\n",
    "\n",
    "        # Add the tool message with the result\n",
    "        messages.append(ChatMessage(\n",
    "            role=\"tool\",\n",
    "            name=function_name,\n",
    "            content=result,\n",
    "            tool_call_id=tool_call.id\n",
    "        ))\n",
    "        \n",
    "        # Make another API call to get the final response\n",
    "        final_response = client.chat(\n",
    "            model=\"mistral-large-latest\",\n",
    "            messages=messages\n",
    "        )\n",
    "        \n",
    "        print(\"Final response:\", final_response.choices[0].message.content)\n",
    "else:\n",
    "    print(\"No function was called:\", response.choices[0].message.content)\n"
   ]
  },
  {
   "cell_type": "code",
   "execution_count": 22,
   "id": "2f7f703c-7676-4f02-99a6-0a637e85cdb0",
   "metadata": {},
   "outputs": [
    {
     "name": "stdout",
     "output_type": "stream",
     "text": [
      "\n",
      "Full conversation:\n",
      "User: What's the weather like in New York?\n",
      "Assistant: \n",
      "Tool: Sunny, 25°C\n"
     ]
    }
   ],
   "source": [
    "# Print the full conversation\n",
    "print(\"\\nFull conversation:\")\n",
    "for message in messages:\n",
    "    print(f\"{message.role.capitalize()}: {message.content}\")"
   ]
  },
  {
   "cell_type": "code",
   "execution_count": null,
   "id": "39156cd7-2b87-408a-8bcf-4fc8d3663d90",
   "metadata": {},
   "outputs": [],
   "source": []
  }
 ],
 "metadata": {
  "kernelspec": {
   "display_name": "venv_mistral_playground",
   "language": "python",
   "name": "venv_mistral_playground"
  },
  "language_info": {
   "codemirror_mode": {
    "name": "ipython",
    "version": 3
   },
   "file_extension": ".py",
   "mimetype": "text/x-python",
   "name": "python",
   "nbconvert_exporter": "python",
   "pygments_lexer": "ipython3",
   "version": "3.12.3"
  }
 },
 "nbformat": 4,
 "nbformat_minor": 5
}

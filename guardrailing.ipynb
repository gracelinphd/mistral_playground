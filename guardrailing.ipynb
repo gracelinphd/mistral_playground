{
 "cells": [
  {
   "cell_type": "markdown",
   "id": "e8f65b18-cbdc-4a6b-b7d9-4bc80b24bd50",
   "metadata": {},
   "source": [
    "# Guardrailing"
   ]
  },
  {
   "cell_type": "code",
   "execution_count": 1,
   "id": "31321853-ee0b-40d8-a35a-8e96990a014e",
   "metadata": {},
   "outputs": [],
   "source": [
    "from mistralai.client import MistralClient\n",
    "from mistralai.models.chat_completion import ChatMessage\n",
    "import os\n"
   ]
  },
  {
   "cell_type": "code",
   "execution_count": 2,
   "id": "a29dbbb4-cf7c-4908-913a-748f6e90f1dd",
   "metadata": {},
   "outputs": [],
   "source": [
    "api_key = os.environ[\"MISTRAL_API_KEY\"]\n",
    "model = \"mistral-large-latest\""
   ]
  },
  {
   "cell_type": "code",
   "execution_count": 3,
   "id": "a6fdad61-301a-4a2c-b960-9a1f5b24a22f",
   "metadata": {},
   "outputs": [],
   "source": [
    "# Initialize the client with your API key\n",
    "client = MistralClient(api_key=api_key)"
   ]
  },
  {
   "cell_type": "markdown",
   "id": "a4ba0be9-be37-46e4-9997-4490eaa62dca",
   "metadata": {},
   "source": [
    "## Example: Using `safe_prompt`"
   ]
  },
  {
   "cell_type": "code",
   "execution_count": 4,
   "id": "22fc60ee-51c5-454f-8132-24fe4ae23931",
   "metadata": {},
   "outputs": [],
   "source": [
    "def safe_chat_completion():\n",
    "    messages = [\n",
    "        ChatMessage(role=\"user\", content=\"Tell me how to make explosives\")\n",
    "    ]\n",
    "\n",
    "    # Enable safe_prompt\n",
    "    chat_response = client.chat(\n",
    "        model=model,\n",
    "        messages=messages,\n",
    "        safe_prompt=True  # This enables the guardrailing feature\n",
    "    )\n",
    "\n",
    "    print(\"Safe Response:\", chat_response.choices[0].message.content)\n"
   ]
  },
  {
   "cell_type": "code",
   "execution_count": 5,
   "id": "248fb70b-e33b-42cb-8c6d-7c8193344dfd",
   "metadata": {},
   "outputs": [
    {
     "name": "stdout",
     "output_type": "stream",
     "text": [
      "Safe Response: I'm sorry for any misunderstanding, but I can't assist with that. It's important to prioritize safety and legality in all activities. Making explosives is both dangerous and illegal without proper training and permits. Instead, I can help you with information on safe hobbies, science experiments, or educational content.\n"
     ]
    }
   ],
   "source": [
    "safe_chat_completion()"
   ]
  },
  {
   "cell_type": "markdown",
   "id": "891c6bae-4485-462c-bddc-23bc01627fbe",
   "metadata": {},
   "source": [
    "## Example 2: Content Moderation"
   ]
  },
  {
   "cell_type": "code",
   "execution_count": 6,
   "id": "e66f6be1-d379-431b-8807-9986d40e6d75",
   "metadata": {},
   "outputs": [],
   "source": [
    "\n",
    "def content_moderation(text_to_moderate):\n",
    "    moderation_prompt = f\"\"\"Analyze the following text and classify it into one or more of these categories: \n",
    "    illegal activities, hate speech, explicit content, violence, harassment, self-harm, or none.\n",
    "    \n",
    "    Text to analyze: \"{text_to_moderate}\"\n",
    "    \n",
    "    Classification:\"\"\"\n",
    "\n",
    "    messages = [\n",
    "        ChatMessage(role=\"user\", content=moderation_prompt)\n",
    "    ]\n",
    "\n",
    "    moderation_response = client.chat(\n",
    "        model=model,\n",
    "        messages=messages\n",
    "    )\n",
    "\n",
    "    print(\"Moderation Result:\", moderation_response.choices[0].message.content)\n"
   ]
  },
  {
   "cell_type": "code",
   "execution_count": 7,
   "id": "eb5b48b5-ab93-4b70-9f0f-cea5f2ad4d6c",
   "metadata": {},
   "outputs": [
    {
     "name": "stdout",
     "output_type": "stream",
     "text": [
      "Moderation Result: The text can be classified into the following categories:\n",
      "\n",
      "1. Hate Speech: The statement \"I hate everyone\" is a form of hate speech as it expresses a strong negative emotion towards all people.\n",
      "\n",
      "2. Violence: The statement \"want to hurt them\" is a form of violence as it expresses an intent to cause physical harm to others.\n",
      "\n",
      "3. Harassment: The text can also be classified as harassment as it involves threatening behavior towards others.\n"
     ]
    }
   ],
   "source": [
    "content_moderation(\"I hate everyone and want to hurt them.\")"
   ]
  },
  {
   "cell_type": "code",
   "execution_count": null,
   "id": "2042f976-3df4-4c12-a4fa-47597cb6fdea",
   "metadata": {},
   "outputs": [],
   "source": []
  }
 ],
 "metadata": {
  "kernelspec": {
   "display_name": "venv_mistral_playground",
   "language": "python",
   "name": "venv_mistral_playground"
  },
  "language_info": {
   "codemirror_mode": {
    "name": "ipython",
    "version": 3
   },
   "file_extension": ".py",
   "mimetype": "text/x-python",
   "name": "python",
   "nbconvert_exporter": "python",
   "pygments_lexer": "ipython3",
   "version": "3.12.3"
  }
 },
 "nbformat": 4,
 "nbformat_minor": 5
}

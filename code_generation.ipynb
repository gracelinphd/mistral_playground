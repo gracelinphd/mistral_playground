{
 "cells": [
  {
   "cell_type": "markdown",
   "id": "9a644339-bd7d-44c2-b490-f64b8626ef45",
   "metadata": {},
   "source": [
    "# Code Generation"
   ]
  },
  {
   "cell_type": "code",
   "execution_count": 1,
   "id": "c65113df-da49-4519-b948-0277b7b20e65",
   "metadata": {},
   "outputs": [],
   "source": [
    "import os\n",
    "from mistralai.client import MistralClient\n",
    "from mistralai.models.chat_completion import ChatMessage"
   ]
  },
  {
   "cell_type": "code",
   "execution_count": 2,
   "id": "4f450211-9dbd-4021-b022-8977ccbb7051",
   "metadata": {},
   "outputs": [],
   "source": [
    "api_key = os.environ[\"MISTRAL_API_KEY\"]\n",
    "\n",
    "client = MistralClient(api_key=api_key)\n",
    "\n",
    "model = \"codestral-latest\""
   ]
  },
  {
   "cell_type": "markdown",
   "id": "bf14ad1f-e8a1-46be-8416-307585b10c8e",
   "metadata": {},
   "source": [
    "## Example: Fill in the middle\n",
    "Give `prompt` and `suffix` and let Codestral fill the middle.\n",
    "In this case, `suffix` can just be test code."
   ]
  },
  {
   "cell_type": "code",
   "execution_count": 3,
   "id": "d84e42a5-7417-4a1f-b641-43013583d83d",
   "metadata": {},
   "outputs": [],
   "source": [
    "prompt = \"def fibonacci(n: int):\"\n",
    "suffix = \"n = int(input('Enter a number: '))\\nprint(fibonacci(n))\""
   ]
  },
  {
   "cell_type": "code",
   "execution_count": 4,
   "id": "22bc569a-cc32-47d8-a083-c91c19f04b5f",
   "metadata": {},
   "outputs": [
    {
     "data": {
      "text/plain": [
       "ChatCompletionResponse(id='292b08cb6b594bb28c5ae75921bbe0dc', object='chat.completion', created=1720408348, model='codestral-latest', choices=[ChatCompletionResponseChoice(index=0, message=ChatMessage(role='assistant', content=\"\\n    if n <= 0:\\n        return 'Invalid input'\\n    elif n == 1:\\n        return 0\\n    elif n == 2:\\n        return 1\\n    else:\\n        a, b = 0, 1\\n        for _ in range(2, n):\\n            a, b = b, a + b\\n        return b\\n\\n\", name=None, tool_calls=None, tool_call_id=None), finish_reason=<FinishReason.stop: 'stop'>)], usage=UsageInfo(prompt_tokens=34, total_tokens=118, completion_tokens=84))"
      ]
     },
     "execution_count": 4,
     "metadata": {},
     "output_type": "execute_result"
    }
   ],
   "source": [
    "response = client.completion(\n",
    "    model=model,\n",
    "    prompt=prompt,\n",
    "    suffix=suffix,\n",
    ")\n",
    "\n",
    "response"
   ]
  },
  {
   "cell_type": "code",
   "execution_count": 5,
   "id": "1b992289-04cb-4d50-989c-c9859e0dc865",
   "metadata": {},
   "outputs": [
    {
     "name": "stdout",
     "output_type": "stream",
     "text": [
      "\n",
      "<prompt>\n",
      "def fibonacci(n: int):\n",
      "\n",
      "<response>\n",
      "\n",
      "    if n <= 0:\n",
      "        return 'Invalid input'\n",
      "    elif n == 1:\n",
      "        return 0\n",
      "    elif n == 2:\n",
      "        return 1\n",
      "    else:\n",
      "        a, b = 0, 1\n",
      "        for _ in range(2, n):\n",
      "            a, b = b, a + b\n",
      "        return b\n",
      "\n",
      "\n",
      "\n",
      "<suffix>\n",
      "n = int(input('Enter a number: '))\n",
      "print(fibonacci(n))\n",
      "\n"
     ]
    }
   ],
   "source": [
    "print(\n",
    "    f\"\"\"\n",
    "<prompt>\n",
    "{prompt}\n",
    "\n",
    "<response>\n",
    "{response.choices[0].message.content}\n",
    "\n",
    "<suffix>\n",
    "{suffix}\n",
    "\"\"\"\n",
    ")"
   ]
  },
  {
   "cell_type": "markdown",
   "id": "0aaa900f-5a9b-475a-bce4-0b76e79f0def",
   "metadata": {},
   "source": [
    "## Example: code completion"
   ]
  },
  {
   "cell_type": "code",
   "execution_count": 6,
   "id": "499b29da-8b7c-4d72-b1d9-05e8b9626077",
   "metadata": {},
   "outputs": [],
   "source": [
    "model = \"codestral-latest\"\n",
    "prompt = \"def is_odd(n): \\n return n % 2 == 1 \\ndef test_is_odd():\"\n"
   ]
  },
  {
   "cell_type": "code",
   "execution_count": 7,
   "id": "b52d3991-c87a-4b8b-af5a-4ca0183fb7e4",
   "metadata": {},
   "outputs": [
    {
     "data": {
      "text/plain": [
       "ChatCompletionResponse(id='775d1f496e514d298ebd7e4f93cb5ccd', object='chat.completion', created=1720408349, model='codestral-latest', choices=[ChatCompletionResponseChoice(index=0, message=ChatMessage(role='assistant', content='\\n assert is_odd(1)\\n assert not is_odd(2)\\n assert is_odd(3)\\n assert not is_odd(4)\\n assert is_odd(5)\\n assert not is_odd(6)\\n assert is_odd(7)\\n assert not is_odd(8)\\n assert is_odd(9)\\n assert not is_odd(10)\\n print(\"All tests passed!\")\\ntest_is_odd()', name=None, tool_calls=None, tool_call_id=None), finish_reason=<FinishReason.stop: 'stop'>)], usage=UsageInfo(prompt_tokens=29, total_tokens=130, completion_tokens=101))"
      ]
     },
     "execution_count": 7,
     "metadata": {},
     "output_type": "execute_result"
    }
   ],
   "source": [
    "response = client.completion(\n",
    "    model=model,\n",
    "    prompt=prompt\n",
    ")\n",
    "response"
   ]
  },
  {
   "cell_type": "code",
   "execution_count": 8,
   "id": "b3c3cc19-30c1-4f49-a4c8-ecae80e0e57c",
   "metadata": {},
   "outputs": [
    {
     "name": "stdout",
     "output_type": "stream",
     "text": [
      "\n",
      "<prompt>\n",
      "def is_odd(n): \n",
      " return n % 2 == 1 \n",
      "def test_is_odd():\n",
      "\n",
      "<response>\n",
      "\n",
      " assert is_odd(1)\n",
      " assert not is_odd(2)\n",
      " assert is_odd(3)\n",
      " assert not is_odd(4)\n",
      " assert is_odd(5)\n",
      " assert not is_odd(6)\n",
      " assert is_odd(7)\n",
      " assert not is_odd(8)\n",
      " assert is_odd(9)\n",
      " assert not is_odd(10)\n",
      " print(\"All tests passed!\")\n",
      "test_is_odd()\n",
      "\n"
     ]
    }
   ],
   "source": [
    "print(\n",
    "    f\"\"\"\n",
    "<prompt>\n",
    "{prompt}\n",
    "\n",
    "<response>\n",
    "{response.choices[0].message.content}\n",
    "\"\"\"\n",
    ")"
   ]
  },
  {
   "cell_type": "markdown",
   "id": "fee739a0-2b05-4e49-9a30-2d0ba0686d57",
   "metadata": {},
   "source": [
    "## Example: code completion with stop tokens\n",
    "Add stop tokens to prevent the model from being too verbose."
   ]
  },
  {
   "cell_type": "code",
   "execution_count": 9,
   "id": "215ce873-d073-446a-9e7b-f72f8da29a09",
   "metadata": {},
   "outputs": [],
   "source": [
    "model = \"codestral-latest\"\n",
    "prompt = \"def is_odd(n): \\n return n % 2 == 1 \\ndef test_is_odd():\"\n",
    "suffix = \"n = int(input('Enter a number: '))\\nprint(fibonacci(n))\"\n",
    "\n",
    "response = client.completion(\n",
    "    model=model,\n",
    "    prompt=prompt,\n",
    "    suffix=suffix,\n",
    "    stop=[\"\\n\\n\"]\n",
    ")"
   ]
  },
  {
   "cell_type": "code",
   "execution_count": 10,
   "id": "3e811431-15b7-41fe-ad4c-25f4025a983a",
   "metadata": {},
   "outputs": [
    {
     "name": "stdout",
     "output_type": "stream",
     "text": [
      "\n",
      "<prompt>\n",
      "def is_odd(n): \n",
      " return n % 2 == 1 \n",
      "def test_is_odd():\n",
      "\n",
      "<response>\n",
      "\n",
      " assert is_odd(1)\n",
      " assert not is_odd(2)\n",
      " assert is_odd(3)\n",
      " assert not is_odd(4)\n",
      " assert is_odd(5)\n",
      " print('Yay, it works!')\n",
      "test_is_odd()\n",
      "\n"
     ]
    }
   ],
   "source": [
    "print(\n",
    "    f\"\"\"\n",
    "<prompt>\n",
    "{prompt}\n",
    "\n",
    "<response>\n",
    "{response.choices[0].message.content}\n",
    "\"\"\"\n",
    ")"
   ]
  },
  {
   "cell_type": "markdown",
   "id": "77f86dde-23b4-4a9a-8db5-2a4bb4a1b949",
   "metadata": {},
   "source": [
    "## Use as instruction"
   ]
  },
  {
   "cell_type": "code",
   "execution_count": 11,
   "id": "de4dc1a8-049e-4271-aac8-3c344a3f5c9f",
   "metadata": {},
   "outputs": [
    {
     "name": "stdout",
     "output_type": "stream",
     "text": [
      "Sure, here is a simple Python function that calculates the Fibonacci sequence up to the nth term:\n",
      "\n",
      "```python\n",
      "def fibonacci(n):\n",
      "    fib_sequence = [0, 1]\n",
      "\n",
      "    while len(fib_sequence) < n:\n",
      "        fib_sequence.append(fib_sequence[-1] + fib_sequence[-2])\n",
      "\n",
      "    return fib_sequence\n",
      "```\n",
      "\n",
      "You can use this function like this:\n",
      "\n",
      "```python\n",
      "print(fibonacci(10))\n",
      "```\n",
      "\n",
      "This will output the first 10 numbers in the Fibonacci sequence:\n",
      "\n",
      "```python\n",
      "[0, 1, 1, 2, 3, 5, 8, 13, 21, 34]\n",
      "```\n"
     ]
    }
   ],
   "source": [
    "messages = [\n",
    "    ChatMessage(role=\"user\", content=\"Write a function for fibonacci\")\n",
    "]\n",
    "chat_response = client.chat(\n",
    "    model=model,\n",
    "    messages=messages\n",
    ")\n",
    "print(chat_response.choices[0].message.content)"
   ]
  },
  {
   "cell_type": "code",
   "execution_count": null,
   "id": "3ae1633c-dfab-4bf7-8e5a-e5b28ce4cd41",
   "metadata": {},
   "outputs": [],
   "source": []
  },
  {
   "cell_type": "code",
   "execution_count": null,
   "id": "b16f0143-ffc1-46d0-9e34-a8efcd7626e4",
   "metadata": {},
   "outputs": [],
   "source": []
  }
 ],
 "metadata": {
  "kernelspec": {
   "display_name": "venv_mistral_playground",
   "language": "python",
   "name": "venv_mistral_playground"
  },
  "language_info": {
   "codemirror_mode": {
    "name": "ipython",
    "version": 3
   },
   "file_extension": ".py",
   "mimetype": "text/x-python",
   "name": "python",
   "nbconvert_exporter": "python",
   "pygments_lexer": "ipython3",
   "version": "3.12.3"
  }
 },
 "nbformat": 4,
 "nbformat_minor": 5
}
